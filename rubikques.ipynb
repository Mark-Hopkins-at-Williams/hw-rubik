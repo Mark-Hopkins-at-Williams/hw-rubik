{
 "cells": [
  {
   "cell_type": "markdown",
   "metadata": {
    "colab_type": "text",
    "id": "nude-BPX9y1B"
   },
   "source": [
    "# Lab 0: Rubik\n",
    "\n",
    "**To use PyTorch, the first thing we need to do is make sure it's installed.** If it is not, follow the instructions here for your machine:\n",
    "\n",
    "    https://pytorch.org/get-started/locally/"
   ]
  },
  {
   "cell_type": "markdown",
   "metadata": {},
   "source": [
    "![Rubik's Cube](./img/rubik.png)"
   ]
  },
  {
   "cell_type": "markdown",
   "metadata": {
    "colab_type": "text",
    "id": "ScUKj-prgJHi"
   },
   "source": [
    "**What is a tensor?** A tensor is a generalization of vectors and matrices. A vector is an order-1 tensor. A matrix is an order-2 tensor. You can think of a Rubik's cube as an order-3 tensor, where each block is a cell of the tensor. Let's first represent a Rubik's cube as an order-3 tensor using PyTorch."
   ]
  },
  {
   "cell_type": "code",
   "execution_count": null,
   "metadata": {
    "colab": {
     "base_uri": "https://localhost:8080/",
     "height": 204
    },
    "colab_type": "code",
    "id": "FpaTvxvwgZaQ",
    "outputId": "037133c8-8b34-4859-9097-c57ca0441304"
   },
   "outputs": [],
   "source": [
    "import torch\n",
    "RUBIKS_CUBE = torch.tensor([[[1, 2, 3],\n",
    "                             [4, 5, 6],\n",
    "                             [7, 8, 9]],\n",
    "                    \n",
    "                            [[10, 11, 12],\n",
    "                             [13, 0, 14],\n",
    "                             [15, 16, 17]],\n",
    "                    \n",
    "                            [[18, 19, 20],\n",
    "                             [21, 22, 23],\n",
    "                             [24, 25, 26]]])\n",
    "print(RUBIKS_CUBE)"
   ]
  },
  {
   "cell_type": "markdown",
   "metadata": {
    "colab_type": "text",
    "id": "jbWBQ5Gfg_eH"
   },
   "source": [
    "**You can imagine it as if the Rubik's cube is sitting on a table and we're looking at it top-down.** The first matrix are the 9 blocks we can see. The second matrix is the next layer down, and the third matrix is the layer of blocks closest to the table. We can use PyTorch to twist and flip the Rubik's cube using tensor manipulations.\n",
    "\n",
    "What follows are a series of exercises for getting comfortable with using and manipulating tensors using PyTorch. The following tutorial is a useful starting point:\n",
    "\n",
    "https://pytorch.org/tutorials/beginner/blitz/tensor_tutorial.html\n",
    "\n",
    "A more comprehensive set of tensor operations can be found here:\n",
    "\n",
    "https://pytorch.org/docs/stable/torch.html\n",
    "\n",
    "There are many ways to solve these exercises. Try to use them as an opportunity to explore the library, and see what operations you find convenient."
   ]
  },
  {
   "cell_type": "markdown",
   "metadata": {},
   "source": [
    "----\n",
    "### Question 1\n",
    "----"
   ]
  },
  {
   "cell_type": "markdown",
   "metadata": {
    "colab_type": "text",
    "id": "Ba84nzQ7G3zo"
   },
   "source": [
    "Write a function ```encode``` in ```rubik.py``` that takes the current Rubik's cube and turns it into a string by \"reading\" each block (starting from the top layer) as the kth letter of the alphabet. Conveniently, there are exactly 26 blocks that we'll ever see (since the middle block always remains in the middle of the Rubik's cube). When encoding, ignore the middle block (with the value 0).\n",
    "\n",
    "There's a unit test in ```test.py```, so that you can check your algorithm is working properly. Run it from the command line as follows:\n",
    "\n",
    "    python -m unittest test.Q1\n",
    "    \n",
    "Once it's working, the following code should produce the alphabet."
   ]
  },
  {
   "cell_type": "code",
   "execution_count": null,
   "metadata": {
    "colab": {},
    "colab_type": "code",
    "id": "JRdVK86kHkQk"
   },
   "outputs": [],
   "source": [
    "from rubik import encode, RUBIKS_CUBE\n",
    "encode(RUBIKS_CUBE)"
   ]
  },
  {
   "cell_type": "markdown",
   "metadata": {},
   "source": [
    "----\n",
    "### Question 2\n",
    "----"
   ]
  },
  {
   "cell_type": "markdown",
   "metadata": {
    "colab_type": "text",
    "id": "2UXLsLOZD7rV"
   },
   "source": [
    "Implement the function ```flip_away``` in ```rubik.py``` so that it takes the Rubik's cube and \"flips\" the Rubik's cube away from us (remember we're looking at it top-down, sitting on a table), so that the blocks we now see are the blocks we would have seen by crouching down and looking at the cube from the front. \n",
    "\n",
    "There's a unit test in ```test.py```, so that you can check your implementation is working properly. Run it from the command line as follows:\n",
    "\n",
    "    python -m unittest test.Q2\n",
    "    \n",
    "Once it's working, run the following code to flip your Rubik's cube away from you."
   ]
  },
  {
   "cell_type": "code",
   "execution_count": null,
   "metadata": {
    "colab": {},
    "colab_type": "code",
    "id": "AP2SpKkQh04j"
   },
   "outputs": [],
   "source": [
    "from rubik import flip_away, RUBIKS_CUBE\n",
    "flip_away(RUBIKS_CUBE)"
   ]
  },
  {
   "cell_type": "markdown",
   "metadata": {},
   "source": [
    "----\n",
    "### Question 3\n",
    "----"
   ]
  },
  {
   "cell_type": "markdown",
   "metadata": {
    "colab_type": "text",
    "id": "8lU9hsIA8APv"
   },
   "source": [
    "Implement the function ```twist_right``` in ```rubik.py``` so that it twists the top layer of the Rubik's cube clockwise.\n",
    "\n",
    "There's a unit test in ```test.py```, so that you can check your implementation is working properly. Run it from the command line as follows:\n",
    "\n",
    "    python -m unittest test.Q3\n",
    "    \n",
    "Once it's working, run the following code to twist your Rubik's cube to the right."
   ]
  },
  {
   "cell_type": "code",
   "execution_count": null,
   "metadata": {
    "colab": {},
    "colab_type": "code",
    "id": "XDM9N37EheUA"
   },
   "outputs": [],
   "source": [
    "from rubik import twist_right, RUBIKS_CUBE\n",
    "twist_right(RUBIKS_CUBE)"
   ]
  },
  {
   "cell_type": "markdown",
   "metadata": {},
   "source": [
    "----\n",
    "### Question 4\n",
    "----"
   ]
  },
  {
   "cell_type": "markdown",
   "metadata": {
    "colab_type": "text",
    "id": "dajk6ACCLIrb"
   },
   "source": [
    "Implement the function ```rotate_right``` in ```rubik.py``` so that it takes the Rubik's cube and \"rotates\" the Rubik's cube to the right (remember we're looking at it top-down, sitting on a table), so that the blocks we now see are the same blocks we saw before, but rotated 90 degrees to the right.\n",
    "\n",
    "There's a unit test in ```test.py```, so that you can check your implementation is working properly. Run it from the command line as follows:\n",
    "\n",
    "    python -m unittest test.RubiksCubeTests.test_rotate_right\n",
    "    \n",
    "Once it's working, run the following code to rotate your Rubik's cube to the right."
   ]
  },
  {
   "cell_type": "code",
   "execution_count": null,
   "metadata": {
    "colab": {},
    "colab_type": "code",
    "id": "mUt-sQrFLRok"
   },
   "outputs": [],
   "source": [
    "from rubik import rotate_right, RUBIKS_CUBE\n",
    "rotate_right(RUBIKS_CUBE)"
   ]
  },
  {
   "cell_type": "markdown",
   "metadata": {},
   "source": [
    "After all these functions are working, it will be time to do this."
   ]
  },
  {
   "cell_type": "code",
   "execution_count": null,
   "metadata": {},
   "outputs": [],
   "source": [
    "from rubik import encode, rotate_right, flip_away, twist_right\n",
    "from rubik import RUBIKS_CUBE\n",
    "\n",
    "def answer():\n",
    "    operations = [flip_away, rotate_right, rotate_right, rotate_right, twist_right,\n",
    "                  twist_right, twist_right, twist_right, rotate_right, flip_away]\n",
    "    result = RUBIKS_CUBE\n",
    "    for op in operations:\n",
    "        result = op(result)\n",
    "    return encode(result)[7:11]\n",
    "\n",
    "def submit(response):\n",
    "    import rpyc\n",
    "    c = rpyc.connect(\"137.165.10.56\", 18861)\n",
    "    print(c.root.submit_response('lab0.0', response))\n",
    "\n",
    "print('You submit the password {} to the server.'.format(answer()))\n",
    "submit(answer())"
   ]
  }
 ],
 "metadata": {
  "colab": {
   "collapsed_sections": [],
   "name": "rubikques.ipynb",
   "provenance": [],
   "version": "0.3.2"
  },
  "kernelspec": {
   "display_name": "Python 3",
   "language": "python",
   "name": "python3"
  },
  "language_info": {
   "codemirror_mode": {
    "name": "ipython",
    "version": 3
   },
   "file_extension": ".py",
   "mimetype": "text/x-python",
   "name": "python",
   "nbconvert_exporter": "python",
   "pygments_lexer": "ipython3",
   "version": "3.11.7"
  }
 },
 "nbformat": 4,
 "nbformat_minor": 1
}
